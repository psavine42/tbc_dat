{
 "cells": [
  {
   "cell_type": "code",
   "execution_count": 1,
   "metadata": {
    "collapsed": false
   },
   "outputs": [],
   "source": [
    "\n",
    "import binascii\n",
    "%matplotlib inline\n",
    "from PIL import Image\n",
    "import matplotlib\n",
    "\n",
    "import numpy as np\n",
    "import matplotlib.pyplot as plt\n",
    "from skimage import data\n",
    "\n",
    "import pickle\n",
    "from scipy import ndimage\n",
    "import cv2\n",
    "import skimage.transform as   transform\n",
    "\n",
    "from skimage.draw import line_aa, polygon\n",
    "import pandas\n",
    "import os\n",
    "\n",
    "#im = sk.io.imread(pth)\n",
    "\n"
   ]
  },
  {
   "cell_type": "code",
   "execution_count": 419,
   "metadata": {
    "collapsed": false
   },
   "outputs": [],
   "source": [
    "pth = 'data/resize-3.tif'\n",
    "#\"data/----16019 Parcel U JAMAICA PLAIN, MA (community blders)------Superseded Drawings--Architectural--A1.01-FIRST-FLOOR-PLAN-Rev.0(1).tif\"\n",
    "\n",
    "img = Image.open(pth)\n",
    "scale = 1\n",
    "im2 = cv2.imread(pth)\n",
    "#im2 = transform.rescale(im, scale)"
   ]
  },
  {
   "cell_type": "code",
   "execution_count": 2,
   "metadata": {
    "collapsed": false,
    "scrolled": false
   },
   "outputs": [],
   "source": [
    "def plot_image(im):\n",
    "    fig, ax = plt.subplots(figsize=(18, 20))\n",
    "    ax.imshow(im)\n"
   ]
  },
  {
   "cell_type": "code",
   "execution_count": 19,
   "metadata": {
    "collapsed": false
   },
   "outputs": [],
   "source": [
    "import csv\n",
    "import re\n",
    "\"\"\"\n",
    "Import CSV data from OST SQL, and preprocess some data\n",
    "\n",
    "\"\"\"\n",
    "\n",
    "\n",
    "datapath = 'data/ddatar.csv'\n",
    "dpi = 216\n",
    "\n",
    "\n",
    "def unhex (lines, scale_mx):\n",
    "    for h in range(0, len(lines)):\n",
    "        binary_string = binascii.unhexlify(lines[h]['Position'][2:])\n",
    "        x = np.array(binary_string.decode().split(';'))\n",
    "        y = x.astype(np.float32) \n",
    "        scale = scale_mx / (int(lines[h]['page_Width']) * dpi)\n",
    "        s = np.rint(y) * scale * 2.25\n",
    "        lines[h]['coords'] = s.astype(int)\n",
    "    return lines\n",
    "\n",
    "def read_data (pth):\n",
    "    lines = np.genfromtxt(pth, delimiter=\",\" ,autostrip=True, dtype='str')\n",
    "    my_dict = []\n",
    "    for i in range(len(lines)):\n",
    "        row = dict()\n",
    "        for j in range(len(lines[0])):\n",
    "            row[lines[0][j]] = lines[i][j]\n",
    "        my_dict.append(row) \n",
    "    return np.array(my_dict)[1:]\n",
    "\n",
    "\n",
    "def assign_color(lines, cat_label):\n",
    "    colors = np.random.randint(0, high=190, size=(len(lines), 3)) \n",
    "    seen = []\n",
    "    \n",
    "    for h in range(0, len(lines)):\n",
    "        if lines[h][cat_label] not in seen:\n",
    "            seen.append(lines[h][cat_label])\n",
    "        \n",
    "        lines[h]['color'] = colors[seen.index(lines[h][cat_label])]\n",
    "    return lines\n",
    "        \n",
    "def unique_cats(lines, cat_label):\n",
    "    seen = []\n",
    "    for h in lines:\n",
    "        if h[cat_label] not in seen:\n",
    "            seen.append( h[cat_label])\n",
    "    return seen\n",
    "\n",
    "\n",
    "\n",
    "# data = read_data(datapath)       \n",
    "# res = unhex(data, scale_max)\n",
    "\n",
    "# fnl = assign_color(res, 'catName')\n",
    "# sn = unique_cats(res, 'catName')\n"
   ]
  },
  {
   "cell_type": "code",
   "execution_count": 20,
   "metadata": {
    "collapsed": false
   },
   "outputs": [],
   "source": [
    "\n",
    "\"\"\"\n",
    "\"\"\"\n",
    "\n",
    "def img_dir_to_name(line):\n",
    "    return line.replace('G:\\\\Projects\\\\2016\\\\Precon', '').replace('\\\\' , '--')\n",
    "\n",
    "\n",
    "def set_image_paths (line, path, img_dir):\n",
    "    searches = line['ImagePath'].replace('tif' , 'jpeg').split('\\\\')\n",
    "    s1 = searches[-1:][0]\n",
    "   \n",
    "    xs1 = re.findall('\\d{5,6}', line['ImagePath'].replace('\\\\' , ' '))\n",
    "    \n",
    "    if xs1:\n",
    "        s2 = xs1[0]\n",
    "        tmp = [x for x in img_dir if s1 in x.replace(',', '') and s2 in x]\n",
    "        if tmp:\n",
    "            line['img_name'] = tmp[0]\n",
    "\n",
    "    return line\n",
    "    "
   ]
  },
  {
   "cell_type": "code",
   "execution_count": 21,
   "metadata": {
    "collapsed": false
   },
   "outputs": [
    {
     "ename": "NameError",
     "evalue": "name 'fnl_msk' is not defined",
     "output_type": "error",
     "traceback": [
      "\u001b[0;31m---------------------------------------------------------------------------\u001b[0m",
      "\u001b[0;31mNameError\u001b[0m                                 Traceback (most recent call last)",
      "\u001b[0;32m<ipython-input-21-9a42afbbdfc7>\u001b[0m in \u001b[0;36m<module>\u001b[0;34m()\u001b[0m\n\u001b[0;32m----> 1\u001b[0;31m \u001b[0mim2pth\u001b[0m \u001b[0;34m=\u001b[0m \u001b[0mfnl_msk\u001b[0m\u001b[0;34m[\u001b[0m\u001b[0;34m'img_loc'\u001b[0m\u001b[0;34m]\u001b[0m\u001b[0;34m\u001b[0m\u001b[0m\n\u001b[0m\u001b[1;32m      2\u001b[0m \u001b[0;31m#im2 = Image.open(im2pth)\u001b[0m\u001b[0;34m\u001b[0m\u001b[0;34m\u001b[0m\u001b[0m\n\u001b[1;32m      3\u001b[0m \u001b[0mim2\u001b[0m \u001b[0;34m=\u001b[0m \u001b[0mcv2\u001b[0m\u001b[0;34m.\u001b[0m\u001b[0mimread\u001b[0m\u001b[0;34m(\u001b[0m\u001b[0mim2pth\u001b[0m\u001b[0;34m)\u001b[0m\u001b[0;34m\u001b[0m\u001b[0m\n\u001b[1;32m      4\u001b[0m \u001b[0mplot_image\u001b[0m\u001b[0;34m(\u001b[0m\u001b[0mim2\u001b[0m\u001b[0;34m)\u001b[0m\u001b[0;34m\u001b[0m\u001b[0m\n\u001b[1;32m      5\u001b[0m \u001b[0mfnl_msk\u001b[0m\u001b[0;34m\u001b[0m\u001b[0m\n",
      "\u001b[0;31mNameError\u001b[0m: name 'fnl_msk' is not defined"
     ]
    }
   ],
   "source": [
    "im2pth = fnl_msk['img_loc']\n",
    "#im2 = Image.open(im2pth)\n",
    "im2 = cv2.imread(im2pth)\n",
    "plot_image(im2)\n",
    "fnl_msk"
   ]
  },
  {
   "cell_type": "code",
   "execution_count": 13,
   "metadata": {
    "collapsed": false
   },
   "outputs": [],
   "source": [
    "scaled_path = 'scaled/'\n",
    "masks_path = 'masks/'\n",
    "dpi = 216\n",
    "\n",
    "def set_colors(image, rr, cc, val, line):\n",
    "    image[rr, cc, 0] = val * line['color'][0]\n",
    "    image[rr, cc, 1] = val * line['color'][1]\n",
    "    image[rr, cc, 2] = val * line['color'][2]\n",
    "    return image\n",
    "\n",
    "def draw_image_mask(image, lines, color_key, cats=[]):\n",
    "    \n",
    "    if cats:\n",
    "        lines = [x for x in lines if any(x[color_key] in s for s in cats)]\n",
    "        \n",
    "    for line in lines:\n",
    "        vec = line['coords']\n",
    "        if vec.size == 5:\n",
    "            rr, cc, val = line_aa(vec[1] , vec[0] , vec[3], vec[2])\n",
    "            image = set_colors(image, rr, cc, val, line)\n",
    "        else:\n",
    "            a = vec[::2] #np.append(vec[:-1:2], vec[0])\n",
    "            b = vec[1::2] #np.append(vec[1:-1:2], vec[1])\n",
    "            rr, cc = polygon(b[::-1], a[::-1])\n",
    "            image = set_colors(image, rr, cc, 1, line)\n",
    "            \n",
    "    return image\n",
    "\n",
    "\n",
    "def process_image (single_dwg_data, uid, imgs_path, cats=[], scale_mx=2048, mode='make-mask', color_key='catName'): \n",
    "    single_dwg_data = unhex(single_dwg_data, scale_mx)\n",
    "\n",
    "    #link image in folder\n",
    "    img_dir = os.listdir(imgs_path + scaled_path)\n",
    "    \n",
    "    #scale = int(scale_mx / int(single_dwg_data[0]['page_Width']) * dpi )\n",
    "   \n",
    "    if mode == 'make-mask':\n",
    "        \n",
    "        \n",
    "        img_location = set_image_paths(single_dwg_data[0], imgs_path, img_dir)\n",
    "        \n",
    "        if 'img_name' in img_location:\n",
    "            \n",
    "            im2 = cv2.imread(imgs_path + scaled_path + img_location['img_name'])\n",
    "            \n",
    "            nm = np.zeros(im2.shape) \n",
    "            nm.fill(255)\n",
    "            img = draw_image_mask(nm, single_dwg_data, color_key, cats=cats)\n",
    "            \n",
    "            #img_w =  int(single_dwg_data[0]['page_Height'] * dpi )  #int(scale_mx * int(single_dwg_data[0]['page_Width'])  / int(single_dwg_data[0]['page_Height']))\n",
    "            #img_h =  int(single_dwg_data[0]['page_Width'] * dpi )\n",
    "    \n",
    "            cv2.imwrite(imgs_path + masks_path + img_location['img_name'] , img)\n",
    "            print(\"found + complete : \" + single_dwg_data[0]['ImagePath'])\n",
    "        else: \n",
    "            print(\"Image not found for \" + single_dwg_data[0]['ImagePath'])\n",
    "        \n",
    "\n",
    "    return single_dwg_data\n",
    "    \n",
    "\n",
    "def process_images(imgs_path, cats=[], scale_mx=2048, mode='make-mask', color_key='catName'):\n",
    "\n",
    "    data = read_data(datapath)\n",
    "    data = assign_color(data, color_key)\n",
    "    \n",
    "    #segment sheet into drawings\n",
    "    pgs = unique_cats(data, 'pgid')\n",
    "    all_dwg_data = []\n",
    "    \n",
    "    for pgid in pgs:\n",
    "        single_dwg_data = [x for x in data if x['pgid'] == pgid] \n",
    "        single_dwg_data= process_image(single_dwg_data, pgid, imgs_path, cats=cats,\n",
    "                                       scale_mx=scale_mx, mode=mode, color_key = color_key)\n",
    "        all_dwg_data = all_dwg_data + single_dwg_data\n",
    "    \n",
    "    return all_dwg_data\n",
    "\n",
    "\n",
    "#plot_image(mod_img[0:256, 256:512])\n",
    "\n",
    "#mod_img.shape[0]/256\n"
   ]
  },
  {
   "cell_type": "code",
   "execution_count": 14,
   "metadata": {
    "collapsed": false
   },
   "outputs": [
    {
     "data": {
      "text/plain": [
       "(183, 256, 3)"
      ]
     },
     "execution_count": 14,
     "metadata": {},
     "output_type": "execute_result"
    }
   ],
   "source": [
    "im2 = cv2.imread('/home/psavine/data/sets/16019/imgs/scaled/----16019 Parcel U JAMAICA PLAIN, MA (community blders)------Superseded Drawings--Architectural--A1.04-FOURTH-FLOOR-PLAN-Rev.0(1).jpeg')\n",
    "im2.shape"
   ]
  },
  {
   "cell_type": "code",
   "execution_count": 22,
   "metadata": {
    "collapsed": false,
    "scrolled": false
   },
   "outputs": [
    {
     "name": "stdout",
     "output_type": "stream",
     "text": [
      "found + complete : G:\\Projects\\2016\\Precon\\16019 Parcel U JAMAICA PLAIN MA (community blders)\\00 PROJECT DOCUMENTS\\001 MOST CURRENT DWGS\\Architectural\\Converted\\A1.00-BASEMENT-GARAGE-FLOOR-PLAN-Rev.0(1).tif\n",
      "found + complete : G:\\Projects\\2016\\Precon\\16019 Parcel U JAMAICA PLAIN MA (community blders)\\00 PROJECT DOCUMENTS\\001 MOST CURRENT DWGS\\Architectural\\Converted\\A1.01-FIRST-FLOOR-PLAN-Rev.0(1).tif\n",
      "found + complete : G:\\Projects\\2016\\Precon\\16019 Parcel U JAMAICA PLAIN MA (community blders)\\00 PROJECT DOCUMENTS\\001 MOST CURRENT DWGS\\Architectural\\Converted\\A1.02-SECOND-FLOOR-PLAN-Rev.0(1).tif\n",
      "found + complete : G:\\Projects\\2016\\Precon\\16019 Parcel U JAMAICA PLAIN MA (community blders)\\00 PROJECT DOCUMENTS\\001 MOST CURRENT DWGS\\Architectural\\Converted\\A1.03-THIRD-FLOOR-PLAN-Rev.0(1).tif\n",
      "found + complete : G:\\Projects\\2016\\Precon\\16019 Parcel U JAMAICA PLAIN MA (community blders)\\00 PROJECT DOCUMENTS\\001 MOST CURRENT DWGS\\Architectural\\Converted\\A1.04-FOURTH-FLOOR-PLAN-Rev.0(1).tif\n",
      "found + complete : G:\\Projects\\2016\\Precon\\16019 Parcel U JAMAICA PLAIN MA (community blders)\\00 PROJECT DOCUMENTS\\001 MOST CURRENT DWGS\\Architectural\\Converted\\A1.05-FIFTH-FLOOR-PLAN-Rev.0(1).tif\n",
      "found + complete : G:\\Projects\\2016\\Precon\\16019 Parcel U JAMAICA PLAIN MA (community blders)\\00 PROJECT DOCUMENTS\\001 MOST CURRENT DWGS\\Architectural\\Converted\\A1.06-ROOF-PLAN-Rev.0(1).tif\n",
      "found + complete : G:\\Projects\\2016\\Precon\\16019 Parcel U JAMAICA PLAIN MA (community blders)\\00 PROJECT DOCUMENTS\\001 MOST CURRENT DWGS\\Architectural\\Converted\\A2.01-ENLARGED-UNIT-PLANS-Rev.0(1).tif\n",
      "found + complete : G:\\Projects\\2016\\Precon\\16019 Parcel U JAMAICA PLAIN MA (community blders)\\00 PROJECT DOCUMENTS\\001 MOST CURRENT DWGS\\Architectural\\Converted\\A2.02-ENLARGED-UNIT-PLANS-Rev.0(1).tif\n",
      "found + complete : G:\\Projects\\2016\\Precon\\16019 Parcel U JAMAICA PLAIN MA (community blders)\\00 PROJECT DOCUMENTS\\001 MOST CURRENT DWGS\\Architectural\\Converted\\A2.03-ENLARGED-UNIT-PLANS-Rev.0(1).tif\n",
      "found + complete : G:\\Projects\\2016\\Precon\\16019 Parcel U JAMAICA PLAIN MA (community blders)\\00 PROJECT DOCUMENTS\\001 MOST CURRENT DWGS\\Architectural\\Converted\\A2.04-ENLARGED-UNIT-PLANS-Rev.0(1).tif\n",
      "found + complete : G:\\Projects\\2016\\Precon\\16019 Parcel U JAMAICA PLAIN MA (community blders)\\00 PROJECT DOCUMENTS\\001 MOST CURRENT DWGS\\Architectural\\Converted\\A2.05-ENLARGED-UNIT-PLANS-Rev.0(1).tif\n",
      "found + complete : G:\\Projects\\2016\\Precon\\16019 Parcel U JAMAICA PLAIN MA (community blders)\\00 PROJECT DOCUMENTS\\001 MOST CURRENT DWGS\\Architectural\\Converted\\A2.06-ENLARGED-UNIT-PLANS-Rev.0(1).tif\n",
      "found + complete : G:\\Projects\\2016\\Precon\\16019 Parcel U JAMAICA PLAIN MA (community blders)\\00 PROJECT DOCUMENTS\\001 MOST CURRENT DWGS\\Architectural\\Converted\\A3.20-DOOR-SCHEDULE-Rev.0(1).tif\n",
      "found + complete : G:\\Projects\\2016\\Precon\\16019 Parcel U JAMAICA PLAIN MA (community blders)\\00 PROJECT DOCUMENTS\\001 MOST CURRENT DWGS\\Architectural\\Converted\\A4.01-EXTERIOR-ELEVATIONS-Rev.0(1).tif\n",
      "found + complete : G:\\Projects\\2016\\Precon\\16019 Parcel U JAMAICA PLAIN MA (community blders)\\00 PROJECT DOCUMENTS\\001 MOST CURRENT DWGS\\Architectural\\Converted\\A4.02-EXTERIOR-ELEVATIONS-Rev.0(1).tif\n",
      "found + complete : G:\\Projects\\2016\\Precon\\16019 Parcel U JAMAICA PLAIN MA (community blders)\\00 PROJECT DOCUMENTS\\001 MOST CURRENT DWGS\\Architectural\\Converted\\A6.01-STAIR-1-PLANS-AND-SECTION-Rev.0(1).tif\n",
      "found + complete : G:\\Projects\\2016\\Precon\\16019 Parcel U JAMAICA PLAIN MA (community blders)\\00 PROJECT DOCUMENTS\\001 MOST CURRENT DWGS\\Architectural\\Converted\\A6.02-STAIR-2-PLANS-AND-SECTION-Rev.0(1).tif\n",
      "Image not found for G:\\Projects\\2016\\Precon\\16019 Parcel U JAMAICA PLAIN MA (community blders)\\00 PROJECT DOCUMENTS\\001 MOST CURRENT DWGS\\Architectural\\Converted\\A8.00-BASEMENT-GARAGE-REFLECTED-CEILING-PLAN-Rev.0(1).tif\n",
      "Image not found for G:\\Projects\\2016\\Precon\\16019 Parcel U JAMAICA PLAIN MA (community blders)\\00 PROJECT DOCUMENTS\\001 MOST CURRENT DWGS\\Architectural\\Converted\\A8.01-FIRST-FLOOR-REFLECTED-CEILING-PLAN-Rev.0(1).tif\n",
      "Image not found for G:\\Projects\\2016\\Precon\\16019 Parcel U JAMAICA PLAIN MA (community blders)\\00 PROJECT DOCUMENTS\\001 MOST CURRENT DWGS\\Architectural\\Converted\\A8.02-TYPICAL-FLOOR-2-4-REFLECTED-CEILING-PLAN-Rev.0(1).tif\n",
      "Image not found for G:\\Projects\\2016\\Precon\\16019 Parcel U JAMAICA PLAIN MA (community blders)\\00 PROJECT DOCUMENTS\\001 MOST CURRENT DWGS\\Architectural\\Converted\\A8.05-FIFTH-FLOOR-REFLECTED-CEILING-PLAN-Rev.0(1).tif\n",
      "found + complete : G:\\Projects\\2016\\Precon\\16019 Parcel U JAMAICA PLAIN MA (community blders)\\00 PROJECT DOCUMENTS\\001 MOST CURRENT DWGS\\Architectural\\Converted\\A2.02-ENLARGED-UNIT-PLANS-Rev.0(1).tif\n",
      "found + complete : G:\\Projects\\2016\\Precon\\16019 Parcel U JAMAICA PLAIN MA (community blders)\\00 PROJECT DOCUMENTS\\001 MOST CURRENT DWGS\\Architectural\\Converted\\A2.06-ENLARGED-UNIT-PLANS-Rev.0(1).tif\n"
     ]
    }
   ],
   "source": [
    "some_dt = process_images('../../data/sets/16019/imgs/', ['000 GSF'], scale_mx=256, color_key='catName' )"
   ]
  },
  {
   "cell_type": "code",
   "execution_count": 15,
   "metadata": {
    "collapsed": true
   },
   "outputs": [],
   "source": [
    "data = read_data(datapath)\n",
    "data = assign_color(data, 'catName')\n",
    "pgs = unique_cats(data, 'catName')\n",
    "single_dwg_data = unhex(data, 256)\n",
    "\n"
   ]
  },
  {
   "cell_type": "code",
   "execution_count": 16,
   "metadata": {
    "collapsed": false
   },
   "outputs": [
    {
     "data": {
      "text/plain": [
       "['000 GSF',\n",
       " '08.43 Storefront',\n",
       " '08 Louvers',\n",
       " '04.10 CMU Masonry',\n",
       " '02.85 Fencing',\n",
       " '12.93 Site Furnishings',\n",
       " '09.65 Resilient Flooring',\n",
       " '02.27 Pavement Marking',\n",
       " '09.68 Carpeting',\n",
       " '08 Windows',\n",
       " '09.2 GWB Walls',\n",
       " '07 Insulation',\n",
       " '09.2 Partitions Wood',\n",
       " '09 Tile',\n",
       " '09.62 Specialty Flooring',\n",
       " '08.81 Glass Glazing',\n",
       " '000 Unit Counts',\n",
       " '07 Roofing',\n",
       " '09.30 Tiling',\n",
       " '12.36 Countertops',\n",
       " '000 Room Areas',\n",
       " '000 Unit Room Door Counts',\n",
       " '08 - Doors',\n",
       " '07 Cladding',\n",
       " '05.52 Metal Railings',\n",
       " '09.51 Acoustical Ceilings',\n",
       " '09.2 GWB Ceilings',\n",
       " '09.2 GWB Soffits']"
      ]
     },
     "execution_count": 16,
     "metadata": {},
     "output_type": "execute_result"
    }
   ],
   "source": [
    "pgs"
   ]
  },
  {
   "cell_type": "code",
   "execution_count": 10,
   "metadata": {
    "collapsed": false
   },
   "outputs": [
    {
     "name": "stdout",
     "output_type": "stream",
     "text": [
      "272160\n",
      "9072\n"
     ]
    }
   ],
   "source": [
    "#Select \n",
    "#bs.JobName, bc.Name, bc.Quantity1, bc.Quantity2, bc.Quantity3, bc.ColorLine,\n",
    "#pg.Name as pagename, pg.Scale, pg.Width, pg.Height, pg.ScaleFactor1, pg.ScaleFactor2, pg.UID,\n",
    "#tf.Position,\n",
    "#bs.BidProjectUID,  tf.Quantity\n",
    "\n",
    "#--tf1.Position as p1, tf2.Position as p2\n",
    "\n",
    "#From BidTakeoffs as tf\n",
    "#Join BidPages as pg On tf.BidPageUID = pg.UID\n",
    "#--Full Outer Join BidTakeoffs as tf1 On ls.BidTakeoffFromUID = tf1.UID\n",
    "#--Full Outer Join BidTakeoffs as tf2 On ls.BidTakeoffToUID = tf2.UID\n",
    "#Join Bids as bs On bs.UID = pg.BidUID\n",
    "#Left Join BidConditions as bc On tf.BidConditionUID = bc.UID\n",
    "\n",
    "#--Join BidTypAreas as bt On bc.bid\n",
    "#Where pg.UID = 82\n",
    "#10262 aloft San Fran   Lobby Building Perimeter    SFO Aloft SD Dwgs 2010_07_12- PART_1.pdf (3) \n",
    "\n",
    "dpi = 216\n",
    "bit_depth = 1\n",
    "\n",
    "print(42 * 30 * dpi)\n",
    "print(42 * dpi)"
   ]
  },
  {
   "cell_type": "code",
   "execution_count": null,
   "metadata": {
    "collapsed": true
   },
   "outputs": [],
   "source": []
  }
 ],
 "metadata": {
  "kernelspec": {
   "display_name": "Python 3",
   "language": "python",
   "name": "python3"
  },
  "language_info": {
   "codemirror_mode": {
    "name": "ipython",
    "version": 3
   },
   "file_extension": ".py",
   "mimetype": "text/x-python",
   "name": "python",
   "nbconvert_exporter": "python",
   "pygments_lexer": "ipython3",
   "version": "3.6.0"
  }
 },
 "nbformat": 4,
 "nbformat_minor": 2
}
